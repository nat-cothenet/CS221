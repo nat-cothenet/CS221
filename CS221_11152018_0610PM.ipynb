{
 "cells": [
  {
   "cell_type": "code",
   "execution_count": 51,
   "metadata": {},
   "outputs": [],
   "source": [
    "    import tensorflow as tf\n",
    "    import pandas as pd\n",
    "    import json\n",
    "    import numpy as np"
   ]
  },
  {
   "cell_type": "code",
   "execution_count": 32,
   "metadata": {},
   "outputs": [
    {
     "name": "stdout",
     "output_type": "stream",
     "text": [
      "These long cables work fine for my truck, but the quality seems a little on the shabby side. For the money I was not expecting 200 dollar snap-on jumper cables but these seem more like what you would see at a chinese knock off shop like harbor freight for 30 bucks.\n",
      "4.0\n"
     ]
    }
   ],
   "source": [
    "# df=pd.read_csv('/Users/srishti/Google Drive/000_7th Quarter/CS221/Project/Automotive_Dataset/automotive_test.csv',header=None)\n",
    "# d = df.values\n",
    "    \n",
    "path= '/Users/srishti/Google Drive/000_7th Quarter/CS221/Project/untouched_data/reviews_Automotive_5.json'\n",
    "data = []\n",
    "with open(path) as f:\n",
    "    for line in f:\n",
    "        data.append(json.loads(line))\n",
    "\n",
    "# d[1]\n",
    "# for j in data[1]:\n",
    "#     print j\n",
    "# print data[1]['reviewText']\n",
    "\n",
    "X=[] #reivews\n",
    "Y=[] #ratings\n",
    "\n",
    "for i in data:\n",
    "    X.append(i['reviewText'])\n",
    "    Y.append(i['overall'])\n",
    "\n",
    "print X[1]\n",
    "print Y[1]\n"
   ]
  },
  {
   "cell_type": "code",
   "execution_count": null,
   "metadata": {},
   "outputs": [],
   "source": []
  },
  {
   "cell_type": "code",
   "execution_count": 49,
   "metadata": {},
   "outputs": [
    {
     "name": "stdout",
     "output_type": "stream",
     "text": [
      "16378\n",
      "16378\n",
      "4095\n",
      "4095\n",
      "After 1.5 months in the sun it ROTTED out. Not made for outside awnings as advertized. DO NOT BUY THIS JUNK!\n",
      "1.0\n",
      "Bought a few of these for drying the family fleet when we are done washing. The work well and drink up the water. After a few washes I just throw them into the wash and they're ready to go again.\n",
      "5.0\n"
     ]
    }
   ],
   "source": []
  },
  {
   "cell_type": "code",
   "execution_count": 57,
   "metadata": {},
   "outputs": [],
   "source": [
    "embeddings_index = dict()\n",
    "f = open('/Users/srishti/Google Drive/000_7th Quarter/CS221/Project/untouched_data/glove.6B/glove.6B.50d.txt')\n",
    "for line in f:# first element of each line is the word and remaining elements are numerical represenation of each line \n",
    "    values = line.split()\n",
    "    word = values[0]\n",
    "    coefs = np.asarray(values[1:], dtype='float32')\n",
    "    embeddings_index[word] = coefs# creates a dict of words and numerical representation of that word\n",
    "f.close()"
   ]
  },
  {
   "cell_type": "code",
   "execution_count": 58,
   "metadata": {},
   "outputs": [
    {
     "data": {
      "text/plain": [
       "array([ 1.1560e-01, -4.1737e-01, -1.3940e+00, -6.8815e-01,  7.0335e-01,\n",
       "        1.4321e+00, -8.9887e-01, -6.1391e-01,  3.8547e-01, -2.6584e-01,\n",
       "        1.9113e-01, -5.0002e-02,  1.4636e+00, -1.6297e-01,  1.9838e-01,\n",
       "        8.5361e-02,  6.1288e-01,  7.1296e-01, -4.3254e-01, -9.5767e-02,\n",
       "       -6.4540e-01, -5.3891e-01,  4.9006e-01,  6.1066e-01,  1.8056e-01,\n",
       "       -3.0041e-01, -4.8492e-01,  8.9223e-01,  5.8719e-01, -5.9620e-01,\n",
       "        9.0922e-01,  8.1159e-02, -4.2649e-01,  1.6652e+00,  1.3048e-02,\n",
       "        3.6209e-01, -4.2714e-01,  2.3003e-01,  7.2911e-01, -4.3867e-01,\n",
       "       -3.9987e-02,  7.2325e-02, -6.2790e-01,  7.6260e-04,  1.2954e+00,\n",
       "        2.7369e-01,  1.4841e-01, -3.4105e-01,  5.7465e-01, -5.5114e-01],\n",
       "      dtype=float32)"
      ]
     },
     "execution_count": 58,
     "metadata": {},
     "output_type": "execute_result"
    }
   ],
   "source": [
    "# embeddings_index['goat']"
   ]
  },
  {
   "cell_type": "code",
   "execution_count": 66,
   "metadata": {},
   "outputs": [
    {
     "data": {
      "text/plain": [
       "array([ 0.11008  , -0.38781  , -0.57615  , -0.27714  ,  0.70521  ,\n",
       "        0.53994  , -1.0786   , -0.40146  ,  1.1504   , -0.5678   ,\n",
       "        0.0038977,  0.52878  ,  0.64561  ,  0.47262  ,  0.48549  ,\n",
       "       -0.18407  ,  0.1801   ,  0.91397  , -1.1979   , -0.5778   ,\n",
       "       -0.37985  ,  0.33606  ,  0.772    ,  0.75555  ,  0.45506  ,\n",
       "       -1.7671   , -1.0503   ,  0.42566  ,  0.41893  , -0.68327  ,\n",
       "        1.5673   ,  0.27685  , -0.61708  ,  0.64638  , -0.076996 ,\n",
       "        0.37118  ,  0.1308   , -0.45137  ,  0.25398  , -0.74392  ,\n",
       "       -0.086199 ,  0.24068  , -0.64819  ,  0.83549  ,  1.2502   ,\n",
       "       -0.51379  ,  0.04224  , -0.88118  ,  0.7158   ,  0.38519  ],\n",
       "      dtype=float32)"
      ]
     },
     "execution_count": 66,
     "metadata": {},
     "output_type": "execute_result"
    }
   ],
   "source": [
    "embeddings_index['dog']"
   ]
  },
  {
   "cell_type": "code",
   "execution_count": 81,
   "metadata": {},
   "outputs": [
    {
     "name": "stdout",
     "output_type": "stream",
     "text": [
      "1\n",
      "I\n",
      "needed\n",
      "a\n",
      "set\n",
      "of\n",
      "jumper\n",
      "cables\n",
      "for\n",
      "my\n",
      "new\n",
      "car\n",
      "and\n",
      "these\n",
      "had\n",
      "good\n",
      "reviews\n",
      "and\n",
      "were\n",
      "at\n",
      "a\n",
      "good\n",
      "price.\n",
      "They\n",
      "have\n",
      "been\n",
      "used"
     ]
    },
    {
     "name": "stderr",
     "output_type": "stream",
     "text": [
      "/Users/srishti/anaconda2/lib/python2.7/site-packages/ipykernel_launcher.py:11: UnicodeWarning: Unicode equal comparison failed to convert both arguments to Unicode - interpreting them as being unequal\n",
      "  # This is added back by InteractiveShellApp.init_path()\n"
     ]
    },
    {
     "name": "stdout",
     "output_type": "stream",
     "text": [
      "\n",
      "a\n",
      "few\n",
      "times\n",
      "already\n",
      "and\n",
      "do\n",
      "what\n",
      "they\n",
      "are\n",
      "supposed\n",
      "to\n",
      "-\n",
      "no\n",
      "complaints\n",
      "there.What\n",
      "I\n",
      "will\n",
      "say\n",
      "is\n",
      "that\n",
      "12\n",
      "feet\n",
      "really\n",
      "isn't\n",
      "an\n",
      "ideal\n",
      "length.\n",
      "Sure,\n",
      "if\n",
      "you\n",
      "pull\n",
      "up\n",
      "front\n",
      "bumper\n",
      "to\n",
      "front\n",
      "bumper\n",
      "they\n",
      "are\n",
      "plenty\n",
      "long,\n",
      "but\n",
      "a\n",
      "lot\n",
      "of\n",
      "times\n",
      "you\n",
      "will\n",
      "be\n",
      "beside\n",
      "another\n",
      "car\n",
      "or\n",
      "can't\n",
      "get\n",
      "really\n",
      "close.\n",
      "Because\n",
      "of\n",
      "this,\n",
      "I\n",
      "would\n",
      "recommend\n",
      "something\n",
      "a\n",
      "little\n",
      "longer\n",
      "than\n",
      "12'.Great\n",
      "brand\n",
      "-\n",
      "get\n",
      "16'\n",
      "version\n",
      "though.\n"
     ]
    }
   ],
   "source": [
    "dataEmbeddings=[]\n",
    "\n",
    "for i in X:\n",
    "    list_one_sentence= []\n",
    "    for j in i.split():\n",
    "        print j\n",
    "        if j in embeddings_index.keys():\n",
    "            list_one_sentence.append(embeddings_index[j]) \n",
    "\n",
    "    dataEmbeddings.append(list_one_sentence)\n",
    "    \n",
    "    \n",
    "        "
   ]
  },
  {
   "cell_type": "code",
   "execution_count": null,
   "metadata": {},
   "outputs": [],
   "source": []
  },
  {
   "cell_type": "code",
   "execution_count": null,
   "metadata": {},
   "outputs": [],
   "source": [
    "# random.shuffle(X)\n",
    "#shuffle\n",
    "from sklearn.model_selection import train_test_split\n",
    "##X train, Y_train is training dataset; X_test and Y_test is test dataset\n",
    "#seed it if we want a particular sample\n",
    "X_train, X_test, Y_train, Y_test = train_test_split(X, Y, test_size=0.2, random_state=None, shuffle= True)#split into train and test set\n"
   ]
  }
 ],
 "metadata": {
  "kernelspec": {
   "display_name": "Python 2",
   "language": "python",
   "name": "python2"
  },
  "language_info": {
   "codemirror_mode": {
    "name": "ipython",
    "version": 2
   },
   "file_extension": ".py",
   "mimetype": "text/x-python",
   "name": "python",
   "nbconvert_exporter": "python",
   "pygments_lexer": "ipython2",
   "version": "2.7.14"
  }
 },
 "nbformat": 4,
 "nbformat_minor": 2
}
